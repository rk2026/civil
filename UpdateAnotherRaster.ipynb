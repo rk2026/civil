{
  "nbformat": 4,
  "nbformat_minor": 0,
  "metadata": {
    "colab": {
      "provenance": [],
      "authorship_tag": "ABX9TyNqT8KiELZJuOcSCP+r9rGA",
      "include_colab_link": true
    },
    "kernelspec": {
      "name": "python3",
      "display_name": "Python 3"
    },
    "language_info": {
      "name": "python"
    }
  },
  "cells": [
    {
      "cell_type": "markdown",
      "metadata": {
        "id": "view-in-github",
        "colab_type": "text"
      },
      "source": [
        "<a href=\"https://colab.research.google.com/github/rk2026/civil/blob/main/UpdateAnotherRaster.ipynb\" target=\"_parent\"><img src=\"https://colab.research.google.com/assets/colab-badge.svg\" alt=\"Open In Colab\"/></a>"
      ]
    },
    {
      "cell_type": "code",
      "source": [
        "!pip install rasterio #if not installed."
      ],
      "metadata": {
        "id": "Q5GPhlCOdphA"
      },
      "execution_count": null,
      "outputs": []
    },
    {
      "cell_type": "markdown",
      "source": [
        "import Necessary library"
      ],
      "metadata": {
        "id": "Ev4EI30Y1lft"
      }
    },
    {
      "cell_type": "code",
      "source": [
        "import rasterio\n",
        "from rasterio.mask import mask\n",
        "import numpy as np\n",
        "from google.colab import files\n",
        "import rasterio\n",
        "from rasterio.plot import show\n",
        "import matplotlib.pyplot as plt"
      ],
      "metadata": {
        "id": "mJLFE1LO1fIU"
      },
      "execution_count": null,
      "outputs": []
    },
    {
      "cell_type": "markdown",
      "source": [],
      "metadata": {
        "id": "votTv1ur1kt-"
      }
    },
    {
      "source": [
        "with rasterio.open('/content/surface_raster5.tif') as src:\n",
        "    surface_array = src.read(1)\n",
        "    surface_profile = src.profile\n",
        "\n",
        "with rasterio.open('/content/dem5.tif') as src:\n",
        "    dem_array = src.read(1)\n",
        "    dem_profile = src.profile\n",
        "\n",
        "# Ensure both rasters have the same shape\n",
        "# (Resample surface_array to match dem_array's shape)\n",
        "from rasterio.warp import reproject, Resampling\n",
        "\n",
        "surface_array_resampled = np.empty(dem_array.shape, dtype=surface_array.dtype)\n",
        "reproject(\n",
        "    source=surface_array,\n",
        "    destination=surface_array_resampled,\n",
        "    src_transform=surface_profile['transform'],\n",
        "    src_crs=surface_profile['crs'],\n",
        "    dst_transform=dem_profile['transform'],\n",
        "    dst_crs=dem_profile['crs'],\n",
        "    resampling=Resampling.nearest  # Choose an appropriate resampling method\n",
        ")\n",
        "# Update DEM values where Surface raster has valid values\n",
        "dem_array[surface_array_resampled != src.nodata] = surface_array_resampled[surface_array_resampled != src.nodata]\n",
        "# Write the updated DEM to a new file\n",
        "with rasterio.open('/content/updated_dem.tif', 'w', **dem_profile) as dst:\n",
        "    dst.write(dem_array, 1)"
      ],
      "cell_type": "code",
      "metadata": {
        "id": "9sEEVKbwj7Bt"
      },
      "execution_count": null,
      "outputs": []
    },
    {
      "cell_type": "markdown",
      "source": [
        "Display the DEM Data"
      ],
      "metadata": {
        "id": "BLcm1Bq-sQm4"
      }
    },
    {
      "cell_type": "code",
      "source": [
        "# prompt: display the updated_dem and download\n",
        "# Assuming 'updated_dem.tif' is already created from previous code\n",
        "try:\n",
        "    with rasterio.open('updated_dem.tif') as src:\n",
        "        updated_dem = src.read(1)\n",
        "        show(updated_dem)  # Display the raster\n",
        "        plt.show()  # Ensure the plot is shown\n",
        "        files.download('updated_dem.tif') #Download the file\n",
        "except rasterio.RasterioIOError as e:\n",
        "    print(f\"Error opening or reading updated_dem.tif: {e}\")\n"
      ],
      "metadata": {
        "id": "jrNpOY_FkA8Y"
      },
      "execution_count": null,
      "outputs": []
    }
  ]
}